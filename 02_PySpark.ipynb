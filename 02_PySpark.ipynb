{
 "cells": [
  {
   "cell_type": "code",
   "execution_count": 1,
   "id": "20a49da7-46e1-4913-9ee3-1419296759f2",
   "metadata": {},
   "outputs": [
    {
     "data": {
      "text/html": [
       "\n",
       "            <div>\n",
       "                <p><b>SparkSession - in-memory</b></p>\n",
       "                \n",
       "        <div>\n",
       "            <p><b>SparkContext</b></p>\n",
       "\n",
       "            <p><a href=\"http://fd7028dead7d:4040\">Spark UI</a></p>\n",
       "\n",
       "            <dl>\n",
       "              <dt>Version</dt>\n",
       "                <dd><code>v3.3.0</code></dd>\n",
       "              <dt>Master</dt>\n",
       "                <dd><code>local[*]</code></dd>\n",
       "              <dt>AppName</dt>\n",
       "                <dd><code>PySpark</code></dd>\n",
       "            </dl>\n",
       "        </div>\n",
       "        \n",
       "            </div>\n",
       "        "
      ],
      "text/plain": [
       "<pyspark.sql.session.SparkSession at 0x7f3b341b3fa0>"
      ]
     },
     "execution_count": 1,
     "metadata": {},
     "output_type": "execute_result"
    }
   ],
   "source": [
    "from pyspark.sql import SparkSession\n",
    "\n",
    "spark = SparkSession \\\n",
    "    .builder \\\n",
    "    .appName(\"PySpark\") \\\n",
    "    .master(\"local[*]\") \\\n",
    "    .getOrCreate()\n",
    "\n",
    "spark\n"
   ]
  },
  {
   "cell_type": "markdown",
   "id": "2281df80-1adf-442f-b798-ce691bf5518e",
   "metadata": {},
   "source": [
    "# Data Reading & Writing"
   ]
  },
  {
   "cell_type": "markdown",
   "id": "8e868cec-3361-4273-9d72-8c4d15e63fb9",
   "metadata": {},
   "source": [
    "## 1. Reading a `.csv` file in Pyspark"
   ]
  },
  {
   "cell_type": "code",
   "execution_count": 2,
   "id": "d85c90a9-2022-4bfa-bdbb-09869314b97b",
   "metadata": {},
   "outputs": [],
   "source": [
    "# Reading a csv file\n",
    "# Option - 1\n",
    "df = spark.read.csv(path='data/emp1.csv')"
   ]
  },
  {
   "cell_type": "code",
   "execution_count": 3,
   "id": "11d9c180-40fe-4d0f-bc73-04fbcfc45999",
   "metadata": {
    "scrolled": true
   },
   "outputs": [
    {
     "name": "stdout",
     "output_type": "stream",
     "text": [
      "+---+-----+---+----------+------+\n",
      "|_c0|  _c1|_c2|       _c3|   _c4|\n",
      "+---+-----+---+----------+------+\n",
      "| ID| Name|Age|Department|Salary|\n",
      "|101| John| 32|        IT| 45000|\n",
      "|102|David| 21|        HR| 56000|\n",
      "|103|Julie| 23|        HR| 50000|\n",
      "|104|Chris| 25|        IT| 40000|\n",
      "|105| Mick| 27|        HR| 60000|\n",
      "+---+-----+---+----------+------+\n",
      "\n",
      "root\n",
      " |-- _c0: string (nullable = true)\n",
      " |-- _c1: string (nullable = true)\n",
      " |-- _c2: string (nullable = true)\n",
      " |-- _c3: string (nullable = true)\n",
      " |-- _c4: string (nullable = true)\n",
      "\n"
     ]
    }
   ],
   "source": [
    "df.show()\n",
    "df.printSchema()"
   ]
  },
  {
   "cell_type": "markdown",
   "id": "dc3c4f62-f0be-4993-b86f-4a3f4ab22192",
   "metadata": {},
   "source": [
    "### Making the first row as header"
   ]
  },
  {
   "cell_type": "code",
   "execution_count": 4,
   "id": "e264bc76-6782-4154-897d-ef363402bc81",
   "metadata": {},
   "outputs": [
    {
     "name": "stdout",
     "output_type": "stream",
     "text": [
      "+---+-----+---+----------+------+\n",
      "| ID| Name|Age|Department|Salary|\n",
      "+---+-----+---+----------+------+\n",
      "|101| John| 32|        IT| 45000|\n",
      "|102|David| 21|        HR| 56000|\n",
      "|103|Julie| 23|        HR| 50000|\n",
      "|104|Chris| 25|        IT| 40000|\n",
      "|105| Mick| 27|        HR| 60000|\n",
      "+---+-----+---+----------+------+\n",
      "\n"
     ]
    }
   ],
   "source": [
    "df = spark.read.csv(path='data/emp1.csv',header=True)\n",
    "df.show()"
   ]
  },
  {
   "cell_type": "code",
   "execution_count": 5,
   "id": "6a7218b7-1c51-4514-a640-ec8132952194",
   "metadata": {},
   "outputs": [
    {
     "name": "stdout",
     "output_type": "stream",
     "text": [
      "+---+-----+---+----------+------+\n",
      "| ID| Name|Age|Department|Salary|\n",
      "+---+-----+---+----------+------+\n",
      "|101| John| 32|        IT| 45000|\n",
      "|102|David| 21|        HR| 56000|\n",
      "|103|Julie| 23|        HR| 50000|\n",
      "|104|Chris| 25|        IT| 40000|\n",
      "|105| Mick| 27|        HR| 60000|\n",
      "+---+-----+---+----------+------+\n",
      "\n"
     ]
    }
   ],
   "source": [
    "# Option - 2\n",
    "df = spark.read.format('csv').option(key='header',value=True).load('data/emp1.csv')\n",
    "df.show()"
   ]
  },
  {
   "cell_type": "code",
   "execution_count": 6,
   "id": "49ac6eec-0649-46f1-bd1f-e9970231d7b3",
   "metadata": {},
   "outputs": [
    {
     "name": "stdout",
     "output_type": "stream",
     "text": [
      "+---+------+---+----------+------+\n",
      "| ID|  Name|Age|Department|Salary|\n",
      "+---+------+---+----------+------+\n",
      "|201| Harsh| 32|   Account| 55000|\n",
      "|202| Harry| 21|     Sales| 36000|\n",
      "|203|  Rick| 23|        IT| 60000|\n",
      "|204|Miller| 25|     Sales| 20000|\n",
      "|205|  Yash| 27|        HR| 50000|\n",
      "|101|  John| 32|        IT| 45000|\n",
      "|102| David| 21|        HR| 56000|\n",
      "|103| Julie| 23|        HR| 50000|\n",
      "|104| Chris| 25|        IT| 40000|\n",
      "|105|  Mick| 27|        HR| 60000|\n",
      "+---+------+---+----------+------+\n",
      "\n"
     ]
    }
   ],
   "source": [
    "# Reading multiple `.csv` file\n",
    "df = spark.read.csv(path=['data/emp1.csv','data/emp2.csv'],header=True)\n",
    "df.show()"
   ]
  },
  {
   "cell_type": "markdown",
   "id": "d52ef781-83c1-4d29-9bdc-bfa2ab33139a",
   "metadata": {},
   "source": [
    "#### Reading all csv files from the directory"
   ]
  },
  {
   "cell_type": "code",
   "execution_count": 12,
   "id": "0be8a2f7-789d-474c-8446-31e4a8c5470d",
   "metadata": {},
   "outputs": [
    {
     "name": "stdout",
     "output_type": "stream",
     "text": [
      "+---+------+---+----------+------+\n",
      "| ID|  Name|Age|Department|Salary|\n",
      "+---+------+---+----------+------+\n",
      "|201| Harsh| 32|   Account| 55000|\n",
      "|202| Harry| 21|     Sales| 36000|\n",
      "|203|  Rick| 23|        IT| 60000|\n",
      "|204|Miller| 25|     Sales| 20000|\n",
      "|205|  Yash| 27|        HR| 50000|\n",
      "|101|  John| 32|        IT| 45000|\n",
      "|102| David| 21|        HR| 56000|\n",
      "|103| Julie| 23|        HR| 50000|\n",
      "|104| Chris| 25|        IT| 40000|\n",
      "|105|  Mick| 27|        HR| 60000|\n",
      "+---+------+---+----------+------+\n",
      "\n",
      "root\n",
      " |-- ID: string (nullable = true)\n",
      " |-- Name: string (nullable = true)\n",
      " |-- Age: string (nullable = true)\n",
      " |-- Department: string (nullable = true)\n",
      " |-- Salary: string (nullable = true)\n",
      "\n"
     ]
    }
   ],
   "source": [
    "df = spark.read.csv(path='data/csvs',header=True)\n",
    "df.show()\n",
    "df.printSchema()"
   ]
  },
  {
   "cell_type": "markdown",
   "id": "304efa42-a0cd-4bca-9d4f-aa41328aadf0",
   "metadata": {},
   "source": [
    "### Making a Custom Schema"
   ]
  },
  {
   "cell_type": "code",
   "execution_count": 14,
   "id": "51bdfdb0-0b1e-42c8-a133-de65e722f522",
   "metadata": {},
   "outputs": [
    {
     "name": "stdout",
     "output_type": "stream",
     "text": [
      "+---+------+---+----------+------+\n",
      "| ID|  Name|Age|Department|Salary|\n",
      "+---+------+---+----------+------+\n",
      "|201| Harsh| 32|   Account| 55000|\n",
      "|202| Harry| 21|     Sales| 36000|\n",
      "|203|  Rick| 23|        IT| 60000|\n",
      "|204|Miller| 25|     Sales| 20000|\n",
      "|205|  Yash| 27|        HR| 50000|\n",
      "|101|  John| 32|        IT| 45000|\n",
      "|102| David| 21|        HR| 56000|\n",
      "|103| Julie| 23|        HR| 50000|\n",
      "|104| Chris| 25|        IT| 40000|\n",
      "|105|  Mick| 27|        HR| 60000|\n",
      "+---+------+---+----------+------+\n",
      "\n",
      "root\n",
      " |-- ID: integer (nullable = true)\n",
      " |-- Name: string (nullable = true)\n",
      " |-- Age: integer (nullable = true)\n",
      " |-- Department: string (nullable = true)\n",
      " |-- Salary: string (nullable = true)\n",
      "\n"
     ]
    }
   ],
   "source": [
    "from pyspark.sql.types import *\n",
    "\n",
    "my_sch = StructType() \\\n",
    "    .add(field='ID', data_type=IntegerType()) \\\n",
    "    .add(field='Name', data_type=StringType()) \\\n",
    "    .add(field='Age', data_type=IntegerType()) \\\n",
    "    .add(field='Department', data_type=StringType()) \\\n",
    "    .add(field='Salary', data_type=StringType())\n",
    "\n",
    "df = spark.read.csv(path='data/csvs', schema=my_sch, header=True)\n",
    "df.show()\n",
    "df.printSchema()"
   ]
  },
  {
   "cell_type": "markdown",
   "id": "dccb005f-57b1-4ab8-a8d9-8e98e73d236c",
   "metadata": {},
   "source": [
    "## 2. Reading Data from `.json` file"
   ]
  },
  {
   "cell_type": "code",
   "execution_count": 18,
   "id": "14deb610-f546-483e-97e5-fcaa7a443e40",
   "metadata": {},
   "outputs": [
    {
     "name": "stdout",
     "output_type": "stream",
     "text": [
      "root\n",
      " |-- active: boolean (nullable = true)\n",
      " |-- email: string (nullable = true)\n",
      " |-- id: long (nullable = true)\n",
      " |-- name: string (nullable = true)\n",
      " |-- roles: array (nullable = true)\n",
      " |    |-- element: string (containsNull = true)\n",
      "\n",
      "+------+--------------------+---+-------------+---------------+\n",
      "|active|               email| id|         name|          roles|\n",
      "+------+--------------------+---+-------------+---------------+\n",
      "|  true|alice.johnson@exa...|  1|Alice Johnson|[admin, editor]|\n",
      "+------+--------------------+---+-------------+---------------+\n",
      "\n"
     ]
    }
   ],
   "source": [
    "# Reading Single line json file\n",
    "js_df = spark.read.json(path='data/d11.json')\n",
    "js_df.printSchema()\n",
    "js_df.show()\n"
   ]
  },
  {
   "cell_type": "code",
   "execution_count": 19,
   "id": "e68b29dc-e671-42e4-b070-5861637611d3",
   "metadata": {},
   "outputs": [
    {
     "name": "stdout",
     "output_type": "stream",
     "text": [
      "root\n",
      " |-- active: boolean (nullable = true)\n",
      " |-- email: string (nullable = true)\n",
      " |-- id: long (nullable = true)\n",
      " |-- name: string (nullable = true)\n",
      " |-- roles: array (nullable = true)\n",
      " |    |-- element: string (containsNull = true)\n",
      "\n",
      "+------+--------------------+---+-------------+----------------+\n",
      "|active|               email| id|         name|           roles|\n",
      "+------+--------------------+---+-------------+----------------+\n",
      "|  true|alice.johnson@exa...|  1|Alice Johnson| [admin, editor]|\n",
      "| false|bob.smith@example...|  2|    Bob Smith|        [viewer]|\n",
      "|  true|charlie.lee@examp...|  3|  Charlie Lee|[editor, viewer]|\n",
      "+------+--------------------+---+-------------+----------------+\n",
      "\n"
     ]
    }
   ],
   "source": [
    "# Reading Multiple line json file\n",
    "js_df = spark.read.json(path='data/csvs/emp_ML.json',multiLine=True)\n",
    "js_df.printSchema()\n",
    "js_df.show()"
   ]
  },
  {
   "cell_type": "code",
   "execution_count": 20,
   "id": "f7c73fb2-525c-4e50-9698-9c8847894d5d",
   "metadata": {},
   "outputs": [
    {
     "name": "stdout",
     "output_type": "stream",
     "text": [
      "root\n",
      " |-- active: boolean (nullable = true)\n",
      " |-- email: string (nullable = true)\n",
      " |-- id: long (nullable = true)\n",
      " |-- name: string (nullable = true)\n",
      " |-- roles: array (nullable = true)\n",
      " |    |-- element: string (containsNull = true)\n",
      "\n",
      "+------+--------------------+---+-------------+---------------+\n",
      "|active|               email| id|         name|          roles|\n",
      "+------+--------------------+---+-------------+---------------+\n",
      "|  true|alice.johnson@exa...|  1|Alice Johnson|[admin, editor]|\n",
      "| false|bob.smith@example...|  2|    Bob Smith|       [viewer]|\n",
      "+------+--------------------+---+-------------+---------------+\n",
      "\n"
     ]
    }
   ],
   "source": [
    "# Reading Multiple json Files\n",
    "js_df = spark.read.json(path=['data/d11.json','data/d22.json'])\n",
    "js_df.printSchema()\n",
    "js_df.show()"
   ]
  },
  {
   "cell_type": "code",
   "execution_count": 21,
   "id": "502e2bfa-5446-417b-8563-a26cde242984",
   "metadata": {},
   "outputs": [
    {
     "name": "stdout",
     "output_type": "stream",
     "text": [
      "root\n",
      " |-- active: boolean (nullable = true)\n",
      " |-- email: string (nullable = true)\n",
      " |-- id: long (nullable = true)\n",
      " |-- name: string (nullable = true)\n",
      " |-- roles: array (nullable = true)\n",
      " |    |-- element: string (containsNull = true)\n",
      "\n",
      "+------+--------------------+---+-------------+---------------+\n",
      "|active|               email| id|         name|          roles|\n",
      "+------+--------------------+---+-------------+---------------+\n",
      "|  true|alice.johnson@exa...|  1|Alice Johnson|[admin, editor]|\n",
      "| false|bob.smith@example...|  2|    Bob Smith|       [viewer]|\n",
      "+------+--------------------+---+-------------+---------------+\n",
      "\n"
     ]
    }
   ],
   "source": [
    "js_df = spark.read.json(path='data/')\n",
    "js_df.printSchema()\n",
    "js_df.show()"
   ]
  },
  {
   "cell_type": "code",
   "execution_count": null,
   "id": "f75efa42-3fb4-4f35-8a42-ed19e1985b3d",
   "metadata": {},
   "outputs": [],
   "source": []
  }
 ],
 "metadata": {
  "kernelspec": {
   "display_name": "Python 3 (ipykernel)",
   "language": "python",
   "name": "python3"
  },
  "language_info": {
   "codemirror_mode": {
    "name": "ipython",
    "version": 3
   },
   "file_extension": ".py",
   "mimetype": "text/x-python",
   "name": "python",
   "nbconvert_exporter": "python",
   "pygments_lexer": "ipython3",
   "version": "3.10.17"
  }
 },
 "nbformat": 4,
 "nbformat_minor": 5
}
